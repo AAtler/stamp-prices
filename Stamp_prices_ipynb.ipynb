{
  "nbformat": 4,
  "nbformat_minor": 0,
  "metadata": {
    "colab": {
      "provenance": [],
      "authorship_tag": "ABX9TyOT0RaJmYw/7EnkuxzZdaR0",
      "include_colab_link": true
    },
    "kernelspec": {
      "name": "python3",
      "display_name": "Python 3"
    },
    "language_info": {
      "name": "python"
    }
  },
  "cells": [
    {
      "cell_type": "markdown",
      "metadata": {
        "id": "view-in-github",
        "colab_type": "text"
      },
      "source": [
        "<a href=\"https://colab.research.google.com/github/AAtler/stamp-prices/blob/main/Stamp_prices_ipynb.ipynb\" target=\"_parent\"><img src=\"https://colab.research.google.com/assets/colab-badge.svg\" alt=\"Open In Colab\"/></a>"
      ]
    },
    {
      "cell_type": "code",
      "execution_count": null,
      "metadata": {
        "id": "7tEuQB5mqcSd"
      },
      "outputs": [],
      "source": []
    },
    {
      "cell_type": "markdown",
      "source": [
        "# Plot US Stamp Prices Over Time"
      ],
      "metadata": {
        "id": "p5IYkfvdqz2I"
      }
    },
    {
      "cell_type": "code",
      "source": [
        "# Import the libraries that we need\n",
        "import pandas as pd\n",
        "import matplotlib.pyplot as plt\n",
        "\n"
      ],
      "metadata": {
        "id": "Qe6eOMgqsihP"
      },
      "execution_count": null,
      "outputs": []
    },
    {
      "cell_type": "markdown",
      "source": [],
      "metadata": {
        "id": "w4OE0g2gtzqx"
      }
    },
    {
      "cell_type": "markdown",
      "source": [
        "# import"
      ],
      "metadata": {
        "id": "d2403zPa0O1D"
      }
    },
    {
      "cell_type": "markdown",
      "source": [
        "This dataset is from https://vincentarelbundock.github.io/Rdatasets/datasets.html\n"
      ],
      "metadata": {
        "id": "rl5yobDZu9M4"
      }
    },
    {
      "cell_type": "code",
      "source": [
        "# Import the libraries that we need\n",
        "import pandas as pd\n",
        "import matplotlib.pyplot as plt"
      ],
      "metadata": {
        "id": "AzqBfWxC3A5Y"
      },
      "execution_count": null,
      "outputs": []
    },
    {
      "cell_type": "markdown",
      "source": [
        "This dataset is fromhttps://vincentarelbundock.github.io/Rdatasets/csv/Stat2Data/USstamps.csv\n",
        "\n"
      ],
      "metadata": {
        "id": "frELOMgL3klw"
      }
    },
    {
      "cell_type": "markdown",
      "source": [
        "# pd.read_csv will turn a csv file into a pandas dataframe\n",
        "stamp_prices = pd.read_csv('https://vincentarelbundock.github.io/Rdatasets/csv/Stat2Data/USstamps.csv')\n",
        "\n",
        "# type() will return the type of an object\n",
        "type(stamp_prices)\n",
        "\n"
      ],
      "metadata": {
        "id": "HrALGN2g4LmJ"
      }
    }
  ]
}